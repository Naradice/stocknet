{
 "cells": [
  {
   "cell_type": "code",
   "execution_count": 1,
   "id": "8949d8bd",
   "metadata": {},
   "outputs": [],
   "source": [
    "import pandas as pd\n",
    "import mplfinance as mpf\n",
    "import datetime\n",
    "import requests\n",
    "import os\n",
    "import json\n",
    "import mplfinance as mpf\n",
    "import random"
   ]
  },
  {
   "cell_type": "code",
   "execution_count": 2,
   "id": "85f2986d",
   "metadata": {},
   "outputs": [],
   "source": [
    "uri = 'http://192.168.100.111:3334/candle5'\n",
    "headers = {'Content-Type': 'application/json'}"
   ]
  },
  {
   "cell_type": "code",
   "execution_count": 3,
   "id": "b3c32bcb",
   "metadata": {},
   "outputs": [],
   "source": [
    "year = 2021\n",
    "month = 8\n",
    "day = 1\n",
    "\n",
    "startDate = datetime.datetime(year, month, day, 0, 0, 0, 0)\n",
    "endDate = startDate + datetime.timedelta(days=1)\n",
    "start = str(startDate.timestamp()*1000).replace(\".0\", \"\")\n",
    "end = str(endDate.timestamp()*1000).replace(\".0\", \"\")\n",
    "\n",
    "data = {}"
   ]
  },
  {
   "cell_type": "code",
   "execution_count": 10,
   "id": "c3ddeaa9",
   "metadata": {},
   "outputs": [
    {
     "name": "stdout",
     "output_type": "stream",
     "text": [
      "Connection Failed: 200, content:[]\n"
     ]
    }
   ],
   "source": [
    "retry = False\n",
    "while startDate.day != 29:\n",
    "    if retry == False:\n",
    "        startDate = startDate + datetime.timedelta(days=1)\n",
    "        endDate = startDate + datetime.timedelta(days=1)\n",
    "        start = str(startDate.timestamp()*1000).replace(\".0\", \"\")\n",
    "        end = str(endDate.timestamp()*1000).replace(\".0\", \"\")\n",
    "    retry = False\n",
    "    query = f'{uri}?from={start}&to={end}'\n",
    "    result = requests.get(query, headers=headers)\n",
    "    if result.status_code == requests.codes.ok and len(result.text) > 3:\n",
    "        ticks = json.loads(result.text)['ticks']\n",
    "        for tick in ticks:\n",
    "            data[tick['timestamp']] = (float(tick['high']), float(tick['low']), float(tick['first']), float(tick['last']), datetime.datetime.fromtimestamp(float(tick['timestamp'])/1000))\n",
    "            if startDate.month != month:\n",
    "                month = startDate.month\n",
    "                #save_dict_to_file(data, f'candle_{startDate.year}-{startDate.month}_temp')\n",
    "    else:\n",
    "        print(f'Connection Failed: {result.status_code}, content:{result.text}')\n",
    "        retry = True\n",
    "        if result.status_code == requests.codes.ok:\n",
    "            retry = False"
   ]
  },
  {
   "cell_type": "code",
   "execution_count": 11,
   "id": "3cc181ad",
   "metadata": {},
   "outputs": [
    {
     "data": {
      "text/plain": [
       "3904"
      ]
     },
     "execution_count": 11,
     "metadata": {},
     "output_type": "execute_result"
    }
   ],
   "source": [
    "len(data)"
   ]
  },
  {
   "cell_type": "code",
   "execution_count": 12,
   "id": "8d8a456b",
   "metadata": {},
   "outputs": [],
   "source": [
    "df = pd.DataFrame.from_dict(data, orient='index', columns = ['High', 'Low', 'Open', 'Close', 'Timestamp'])\n",
    "df['Timestamp'] = pd.to_datetime(df['Timestamp'])\n",
    "df.set_index('Timestamp', inplace=True)"
   ]
  },
  {
   "cell_type": "code",
   "execution_count": 13,
   "id": "917687b6",
   "metadata": {},
   "outputs": [
    {
     "data": {
      "text/html": [
       "<div>\n",
       "<style scoped>\n",
       "    .dataframe tbody tr th:only-of-type {\n",
       "        vertical-align: middle;\n",
       "    }\n",
       "\n",
       "    .dataframe tbody tr th {\n",
       "        vertical-align: top;\n",
       "    }\n",
       "\n",
       "    .dataframe thead th {\n",
       "        text-align: right;\n",
       "    }\n",
       "</style>\n",
       "<table border=\"1\" class=\"dataframe\">\n",
       "  <thead>\n",
       "    <tr style=\"text-align: right;\">\n",
       "      <th></th>\n",
       "      <th>High</th>\n",
       "      <th>Low</th>\n",
       "      <th>Open</th>\n",
       "      <th>Close</th>\n",
       "    </tr>\n",
       "    <tr>\n",
       "      <th>Timestamp</th>\n",
       "      <th></th>\n",
       "      <th></th>\n",
       "      <th></th>\n",
       "      <th></th>\n",
       "    </tr>\n",
       "  </thead>\n",
       "  <tbody>\n",
       "    <tr>\n",
       "      <th>2021-08-07 09:40:00</th>\n",
       "      <td>4731426.0</td>\n",
       "      <td>4723000.0</td>\n",
       "      <td>4727555.0</td>\n",
       "      <td>4725663.0</td>\n",
       "    </tr>\n",
       "    <tr>\n",
       "      <th>2021-08-07 09:45:00</th>\n",
       "      <td>4729999.0</td>\n",
       "      <td>4720001.0</td>\n",
       "      <td>4725595.0</td>\n",
       "      <td>4725175.0</td>\n",
       "    </tr>\n",
       "    <tr>\n",
       "      <th>2021-08-07 09:50:00</th>\n",
       "      <td>4734769.0</td>\n",
       "      <td>4724727.0</td>\n",
       "      <td>4727681.0</td>\n",
       "      <td>4733373.0</td>\n",
       "    </tr>\n",
       "    <tr>\n",
       "      <th>2021-08-07 09:55:00</th>\n",
       "      <td>4757014.0</td>\n",
       "      <td>4732538.0</td>\n",
       "      <td>4733331.0</td>\n",
       "      <td>4753948.0</td>\n",
       "    </tr>\n",
       "    <tr>\n",
       "      <th>2021-08-07 10:00:00</th>\n",
       "      <td>4769694.0</td>\n",
       "      <td>4747002.0</td>\n",
       "      <td>4753514.0</td>\n",
       "      <td>4760000.0</td>\n",
       "    </tr>\n",
       "    <tr>\n",
       "      <th>...</th>\n",
       "      <td>...</td>\n",
       "      <td>...</td>\n",
       "      <td>...</td>\n",
       "      <td>...</td>\n",
       "    </tr>\n",
       "    <tr>\n",
       "      <th>2021-08-28 17:20:00</th>\n",
       "      <td>5372469.0</td>\n",
       "      <td>5359000.0</td>\n",
       "      <td>5372067.0</td>\n",
       "      <td>5365552.0</td>\n",
       "    </tr>\n",
       "    <tr>\n",
       "      <th>2021-08-28 17:25:00</th>\n",
       "      <td>5369463.0</td>\n",
       "      <td>5361252.0</td>\n",
       "      <td>5365712.0</td>\n",
       "      <td>5367061.0</td>\n",
       "    </tr>\n",
       "    <tr>\n",
       "      <th>2021-08-28 17:30:00</th>\n",
       "      <td>5368404.0</td>\n",
       "      <td>5363669.0</td>\n",
       "      <td>5365090.0</td>\n",
       "      <td>5366831.0</td>\n",
       "    </tr>\n",
       "    <tr>\n",
       "      <th>2021-08-28 17:35:00</th>\n",
       "      <td>5371865.0</td>\n",
       "      <td>5365364.0</td>\n",
       "      <td>5366849.0</td>\n",
       "      <td>5368761.0</td>\n",
       "    </tr>\n",
       "    <tr>\n",
       "      <th>2021-08-28 17:40:00</th>\n",
       "      <td>5368749.0</td>\n",
       "      <td>5361931.0</td>\n",
       "      <td>5366731.0</td>\n",
       "      <td>5362361.0</td>\n",
       "    </tr>\n",
       "  </tbody>\n",
       "</table>\n",
       "<p>3904 rows × 4 columns</p>\n",
       "</div>"
      ],
      "text/plain": [
       "                          High        Low       Open      Close\n",
       "Timestamp                                                      \n",
       "2021-08-07 09:40:00  4731426.0  4723000.0  4727555.0  4725663.0\n",
       "2021-08-07 09:45:00  4729999.0  4720001.0  4725595.0  4725175.0\n",
       "2021-08-07 09:50:00  4734769.0  4724727.0  4727681.0  4733373.0\n",
       "2021-08-07 09:55:00  4757014.0  4732538.0  4733331.0  4753948.0\n",
       "2021-08-07 10:00:00  4769694.0  4747002.0  4753514.0  4760000.0\n",
       "...                        ...        ...        ...        ...\n",
       "2021-08-28 17:20:00  5372469.0  5359000.0  5372067.0  5365552.0\n",
       "2021-08-28 17:25:00  5369463.0  5361252.0  5365712.0  5367061.0\n",
       "2021-08-28 17:30:00  5368404.0  5363669.0  5365090.0  5366831.0\n",
       "2021-08-28 17:35:00  5371865.0  5365364.0  5366849.0  5368761.0\n",
       "2021-08-28 17:40:00  5368749.0  5361931.0  5366731.0  5362361.0\n",
       "\n",
       "[3904 rows x 4 columns]"
      ]
     },
     "execution_count": 13,
     "metadata": {},
     "output_type": "execute_result"
    }
   ],
   "source": [
    "df"
   ]
  },
  {
   "cell_type": "code",
   "execution_count": 14,
   "id": "fe1af833",
   "metadata": {},
   "outputs": [],
   "source": [
    "dataFrame = df.copy().sort_index()"
   ]
  },
  {
   "cell_type": "code",
   "execution_count": 38,
   "id": "7cc51872",
   "metadata": {},
   "outputs": [
    {
     "data": {
      "text/html": [
       "<div>\n",
       "<style scoped>\n",
       "    .dataframe tbody tr th:only-of-type {\n",
       "        vertical-align: middle;\n",
       "    }\n",
       "\n",
       "    .dataframe tbody tr th {\n",
       "        vertical-align: top;\n",
       "    }\n",
       "\n",
       "    .dataframe thead th {\n",
       "        text-align: right;\n",
       "    }\n",
       "</style>\n",
       "<table border=\"1\" class=\"dataframe\">\n",
       "  <thead>\n",
       "    <tr style=\"text-align: right;\">\n",
       "      <th></th>\n",
       "      <th>High</th>\n",
       "      <th>Low</th>\n",
       "      <th>Open</th>\n",
       "      <th>Close</th>\n",
       "    </tr>\n",
       "    <tr>\n",
       "      <th>Timestamp</th>\n",
       "      <th></th>\n",
       "      <th></th>\n",
       "      <th></th>\n",
       "      <th></th>\n",
       "    </tr>\n",
       "  </thead>\n",
       "  <tbody>\n",
       "    <tr>\n",
       "      <th>2021-08-07 09:40:00</th>\n",
       "      <td>4731426.0</td>\n",
       "      <td>4723000.0</td>\n",
       "      <td>4727555.0</td>\n",
       "      <td>4725663.0</td>\n",
       "    </tr>\n",
       "    <tr>\n",
       "      <th>2021-08-07 09:45:00</th>\n",
       "      <td>4729999.0</td>\n",
       "      <td>4720001.0</td>\n",
       "      <td>4725595.0</td>\n",
       "      <td>4725175.0</td>\n",
       "    </tr>\n",
       "    <tr>\n",
       "      <th>2021-08-07 09:50:00</th>\n",
       "      <td>4734769.0</td>\n",
       "      <td>4724727.0</td>\n",
       "      <td>4727681.0</td>\n",
       "      <td>4733373.0</td>\n",
       "    </tr>\n",
       "    <tr>\n",
       "      <th>2021-08-07 09:55:00</th>\n",
       "      <td>4757014.0</td>\n",
       "      <td>4732538.0</td>\n",
       "      <td>4733331.0</td>\n",
       "      <td>4753948.0</td>\n",
       "    </tr>\n",
       "    <tr>\n",
       "      <th>2021-08-07 10:00:00</th>\n",
       "      <td>4769694.0</td>\n",
       "      <td>4747002.0</td>\n",
       "      <td>4753514.0</td>\n",
       "      <td>4760000.0</td>\n",
       "    </tr>\n",
       "    <tr>\n",
       "      <th>...</th>\n",
       "      <td>...</td>\n",
       "      <td>...</td>\n",
       "      <td>...</td>\n",
       "      <td>...</td>\n",
       "    </tr>\n",
       "    <tr>\n",
       "      <th>2021-08-28 17:20:00</th>\n",
       "      <td>5372469.0</td>\n",
       "      <td>5359000.0</td>\n",
       "      <td>5372067.0</td>\n",
       "      <td>5365552.0</td>\n",
       "    </tr>\n",
       "    <tr>\n",
       "      <th>2021-08-28 17:25:00</th>\n",
       "      <td>5369463.0</td>\n",
       "      <td>5361252.0</td>\n",
       "      <td>5365712.0</td>\n",
       "      <td>5367061.0</td>\n",
       "    </tr>\n",
       "    <tr>\n",
       "      <th>2021-08-28 17:30:00</th>\n",
       "      <td>5368404.0</td>\n",
       "      <td>5363669.0</td>\n",
       "      <td>5365090.0</td>\n",
       "      <td>5366831.0</td>\n",
       "    </tr>\n",
       "    <tr>\n",
       "      <th>2021-08-28 17:35:00</th>\n",
       "      <td>5371865.0</td>\n",
       "      <td>5365364.0</td>\n",
       "      <td>5366849.0</td>\n",
       "      <td>5368761.0</td>\n",
       "    </tr>\n",
       "    <tr>\n",
       "      <th>2021-08-28 17:40:00</th>\n",
       "      <td>5368749.0</td>\n",
       "      <td>5361931.0</td>\n",
       "      <td>5366731.0</td>\n",
       "      <td>5362361.0</td>\n",
       "    </tr>\n",
       "  </tbody>\n",
       "</table>\n",
       "<p>3904 rows × 4 columns</p>\n",
       "</div>"
      ],
      "text/plain": [
       "                          High        Low       Open      Close\n",
       "Timestamp                                                      \n",
       "2021-08-07 09:40:00  4731426.0  4723000.0  4727555.0  4725663.0\n",
       "2021-08-07 09:45:00  4729999.0  4720001.0  4725595.0  4725175.0\n",
       "2021-08-07 09:50:00  4734769.0  4724727.0  4727681.0  4733373.0\n",
       "2021-08-07 09:55:00  4757014.0  4732538.0  4733331.0  4753948.0\n",
       "2021-08-07 10:00:00  4769694.0  4747002.0  4753514.0  4760000.0\n",
       "...                        ...        ...        ...        ...\n",
       "2021-08-28 17:20:00  5372469.0  5359000.0  5372067.0  5365552.0\n",
       "2021-08-28 17:25:00  5369463.0  5361252.0  5365712.0  5367061.0\n",
       "2021-08-28 17:30:00  5368404.0  5363669.0  5365090.0  5366831.0\n",
       "2021-08-28 17:35:00  5371865.0  5365364.0  5366849.0  5368761.0\n",
       "2021-08-28 17:40:00  5368749.0  5361931.0  5366731.0  5362361.0\n",
       "\n",
       "[3904 rows x 4 columns]"
      ]
     },
     "execution_count": 38,
     "metadata": {},
     "output_type": "execute_result"
    }
   ],
   "source": [
    "dataFrame"
   ]
  },
  {
   "cell_type": "code",
   "execution_count": 44,
   "id": "d4db361b",
   "metadata": {},
   "outputs": [],
   "source": [
    "data = {}\n",
    "SPAN=60\n",
    "for index in range(0, len(dataFrame)-3):\n",
    "    if dataFrame[index+1:index+2].index[0] - dataFrame[index:index+1].index[0] < datetime.timedelta(minutes=SPAN) and dataFrame[index+1:index+2].index[0] - dataFrame[index:index+1].index[0] >= datetime.timedelta(minutes=5):\n",
    "        missingCount = (dataFrame[index+1:index+2].index[0] - dataFrame[index:index+1].index[0])/datetime.timedelta(minutes=5)\n",
    "        for count in range(0, int(missingCount)):\n",
    "            timestamp = dataFrame[index:index+1].index[0]+ datetime.timedelta(minutes=5)\n",
    "            if dataFrame[index:index+1].Close.values[0] > dataFrame[index+1:index+2].Open.values[0]:\n",
    "                diff = (dataFrame[index:index+1].Close.values[0] - dataFrame[index+1:index+2].Open.values[0])/missingCount\n",
    "                openValue = dataFrame[index:index+1].Close.values[0] - diff * count\n",
    "                closeValue = dataFrame[index:index+1].Close.values[0] - diff * (count+1)\n",
    "                High = openValue * (1+abs(random.gauss(0, 0.0005)))\n",
    "                Low = closeValue * (1-abs(random.gauss(0, 0.0005)))\n",
    "            else:\n",
    "                diff = (dataFrame[index+1:index+2].Open.values[0] - dataFrame[index:index+1].Close.values[0])/missingCount\n",
    "                openValue = dataFrame[index:index+1].Close.values[0] + diff * count\n",
    "                closeValue = dataFrame[index:index+1].Close.values[0] + diff * (count+1)\n",
    "                High = closeValue * (1+abs(random.gauss(0, 0.0005)))\n",
    "                Low = openValue * (1-abs(random.gauss(0, 0.0005)))\n",
    "        data[timestamp] = [High, Low,openValue, closeValue, timestamp]\n",
    "    else:\n",
    "        continue"
   ]
  },
  {
   "cell_type": "code",
   "execution_count": 41,
   "id": "536a3881",
   "metadata": {},
   "outputs": [],
   "source": [
    "df = pd.DataFrame.from_dict(data, orient='index', columns = ['High', 'Low', 'Open', 'Close', 'Timestamp'])\n",
    "df['Timestamp'] = pd.to_datetime(df['Timestamp'])\n",
    "df.set_index('Timestamp', inplace=True)"
   ]
  },
  {
   "cell_type": "code",
   "execution_count": 43,
   "id": "1c73622b",
   "metadata": {},
   "outputs": [
    {
     "data": {
      "text/html": [
       "<div>\n",
       "<style scoped>\n",
       "    .dataframe tbody tr th:only-of-type {\n",
       "        vertical-align: middle;\n",
       "    }\n",
       "\n",
       "    .dataframe tbody tr th {\n",
       "        vertical-align: top;\n",
       "    }\n",
       "\n",
       "    .dataframe thead th {\n",
       "        text-align: right;\n",
       "    }\n",
       "</style>\n",
       "<table border=\"1\" class=\"dataframe\">\n",
       "  <thead>\n",
       "    <tr style=\"text-align: right;\">\n",
       "      <th></th>\n",
       "      <th>High</th>\n",
       "      <th>Low</th>\n",
       "      <th>Open</th>\n",
       "      <th>Close</th>\n",
       "    </tr>\n",
       "    <tr>\n",
       "      <th>Timestamp</th>\n",
       "      <th></th>\n",
       "      <th></th>\n",
       "      <th></th>\n",
       "      <th></th>\n",
       "    </tr>\n",
       "  </thead>\n",
       "  <tbody>\n",
       "    <tr>\n",
       "      <th>2021-08-07 09:45:00</th>\n",
       "      <td>4.726170e+06</td>\n",
       "      <td>4.723975e+06</td>\n",
       "      <td>4725663.0</td>\n",
       "      <td>4725595.0</td>\n",
       "    </tr>\n",
       "    <tr>\n",
       "      <th>2021-08-07 09:50:00</th>\n",
       "      <td>4.727869e+06</td>\n",
       "      <td>4.724845e+06</td>\n",
       "      <td>4725175.0</td>\n",
       "      <td>4727681.0</td>\n",
       "    </tr>\n",
       "    <tr>\n",
       "      <th>2021-08-07 09:55:00</th>\n",
       "      <td>4.735111e+06</td>\n",
       "      <td>4.731651e+06</td>\n",
       "      <td>4733373.0</td>\n",
       "      <td>4733331.0</td>\n",
       "    </tr>\n",
       "    <tr>\n",
       "      <th>2021-08-07 10:00:00</th>\n",
       "      <td>4.758908e+06</td>\n",
       "      <td>4.750215e+06</td>\n",
       "      <td>4753948.0</td>\n",
       "      <td>4753514.0</td>\n",
       "    </tr>\n",
       "    <tr>\n",
       "      <th>2021-08-07 10:05:00</th>\n",
       "      <td>4.764041e+06</td>\n",
       "      <td>4.759936e+06</td>\n",
       "      <td>4760000.0</td>\n",
       "      <td>4760000.0</td>\n",
       "    </tr>\n",
       "    <tr>\n",
       "      <th>...</th>\n",
       "      <td>...</td>\n",
       "      <td>...</td>\n",
       "      <td>...</td>\n",
       "      <td>...</td>\n",
       "    </tr>\n",
       "    <tr>\n",
       "      <th>2021-08-28 17:10:00</th>\n",
       "      <td>5.364881e+06</td>\n",
       "      <td>5.357392e+06</td>\n",
       "      <td>5362499.0</td>\n",
       "      <td>5363749.0</td>\n",
       "    </tr>\n",
       "    <tr>\n",
       "      <th>2021-08-28 17:15:00</th>\n",
       "      <td>5.368665e+06</td>\n",
       "      <td>5.365116e+06</td>\n",
       "      <td>5366191.0</td>\n",
       "      <td>5365613.0</td>\n",
       "    </tr>\n",
       "    <tr>\n",
       "      <th>2021-08-28 17:20:00</th>\n",
       "      <td>5.373126e+06</td>\n",
       "      <td>5.369877e+06</td>\n",
       "      <td>5371515.0</td>\n",
       "      <td>5372067.0</td>\n",
       "    </tr>\n",
       "    <tr>\n",
       "      <th>2021-08-28 17:25:00</th>\n",
       "      <td>5.366039e+06</td>\n",
       "      <td>5.365447e+06</td>\n",
       "      <td>5365552.0</td>\n",
       "      <td>5365712.0</td>\n",
       "    </tr>\n",
       "    <tr>\n",
       "      <th>2021-08-28 17:30:00</th>\n",
       "      <td>5.371060e+06</td>\n",
       "      <td>5.362296e+06</td>\n",
       "      <td>5367061.0</td>\n",
       "      <td>5365090.0</td>\n",
       "    </tr>\n",
       "  </tbody>\n",
       "</table>\n",
       "<p>3899 rows × 4 columns</p>\n",
       "</div>"
      ],
      "text/plain": [
       "                             High           Low       Open      Close\n",
       "Timestamp                                                            \n",
       "2021-08-07 09:45:00  4.726170e+06  4.723975e+06  4725663.0  4725595.0\n",
       "2021-08-07 09:50:00  4.727869e+06  4.724845e+06  4725175.0  4727681.0\n",
       "2021-08-07 09:55:00  4.735111e+06  4.731651e+06  4733373.0  4733331.0\n",
       "2021-08-07 10:00:00  4.758908e+06  4.750215e+06  4753948.0  4753514.0\n",
       "2021-08-07 10:05:00  4.764041e+06  4.759936e+06  4760000.0  4760000.0\n",
       "...                           ...           ...        ...        ...\n",
       "2021-08-28 17:10:00  5.364881e+06  5.357392e+06  5362499.0  5363749.0\n",
       "2021-08-28 17:15:00  5.368665e+06  5.365116e+06  5366191.0  5365613.0\n",
       "2021-08-28 17:20:00  5.373126e+06  5.369877e+06  5371515.0  5372067.0\n",
       "2021-08-28 17:25:00  5.366039e+06  5.365447e+06  5365552.0  5365712.0\n",
       "2021-08-28 17:30:00  5.371060e+06  5.362296e+06  5367061.0  5365090.0\n",
       "\n",
       "[3899 rows x 4 columns]"
      ]
     },
     "execution_count": 43,
     "metadata": {},
     "output_type": "execute_result"
    }
   ],
   "source": [
    "df"
   ]
  },
  {
   "cell_type": "code",
   "execution_count": 46,
   "id": "75514fd0",
   "metadata": {},
   "outputs": [
    {
     "data": {
      "text/plain": [
       "576"
      ]
     },
     "execution_count": 46,
     "metadata": {},
     "output_type": "execute_result"
    }
   ],
   "source": [
    "INTERVAL_DAYS = 2\n",
    "MINUTES_SPAN = 5\n",
    "\n",
    "totalMinutes = INTERVAL_DAYS * 24 * 60\n",
    "span  = int(totalMinutes/MINUTES_SPAN)\n",
    "span"
   ]
  },
  {
   "cell_type": "code",
   "execution_count": 47,
   "id": "678ede5a",
   "metadata": {},
   "outputs": [],
   "source": [
    "dataFrame = df.copy().sort_index()"
   ]
  },
  {
   "cell_type": "code",
   "execution_count": 49,
   "id": "df2b9bc4",
   "metadata": {},
   "outputs": [],
   "source": [
    "count = 0\n",
    "['High', 'Low', 'Open', 'Close']\n",
    "dataHigh = []\n",
    "dataLow = []\n",
    "dataOpen = []\n",
    "dataClose = []\n",
    "dataBoaderValue = []\n",
    "dataDateTime = []\n",
    "\n",
    "# create Array of arrayt which contain INTERVAL_DAYS candle info\n",
    "for index in range(0, len(dataFrame) - span -2):\n",
    "    if dataFrame[index+span:index+span+1].index[0] - dataFrame[index:index+1].index[0] == datetime.timedelta(days=INTERVAL_DAYS):\n",
    "        dataHigh.append(dataFrame[index:index+span+1].High.values)\n",
    "        dataLow.append(dataFrame[index:index+span+1].Low.values)\n",
    "        dataOpen.append(dataFrame[index:index+span+1].Open.values)\n",
    "        dataClose.append(dataFrame[index:index+span+1].Close.values)\n",
    "        dataDateTime.append(dataFrame[index:index+span+1].index.values)"
   ]
  },
  {
   "cell_type": "code",
   "execution_count": 1,
   "id": "84490cbf",
   "metadata": {},
   "outputs": [],
   "source": [
    "import numpy as np\n",
    "import pandas as pd\n",
    "import datetime"
   ]
  },
  {
   "cell_type": "code",
   "execution_count": 52,
   "id": "34d3823c",
   "metadata": {},
   "outputs": [],
   "source": [
    "np.savez_compressed('data/bc_boader_2days_test.npz', High=np.asarray(dataHigh), Low=np.asarray(dataLow), Open=np.asarray(dataOpen), Close=np.asarray(dataClose), DateTime=np.asarray(dataDateTime))"
   ]
  },
  {
   "cell_type": "code",
   "execution_count": 81,
   "id": "ad292c4a",
   "metadata": {},
   "outputs": [],
   "source": [
    "data = np.load('data/bc_boader_2days_test.npz')"
   ]
  },
  {
   "cell_type": "code",
   "execution_count": 105,
   "id": "a4a19e93",
   "metadata": {},
   "outputs": [
    {
     "data": {
      "text/plain": [
       "array([['2021-08-17T03:40:00.000000000', '2021-08-17T03:45:00.000000000',\n",
       "        '2021-08-17T03:50:00.000000000', ...,\n",
       "        '2021-08-19T03:30:00.000000000', '2021-08-19T03:35:00.000000000',\n",
       "        '2021-08-19T03:40:00.000000000'],\n",
       "       ['2021-08-17T03:45:00.000000000', '2021-08-17T03:50:00.000000000',\n",
       "        '2021-08-17T03:55:00.000000000', ...,\n",
       "        '2021-08-19T03:35:00.000000000', '2021-08-19T03:40:00.000000000',\n",
       "        '2021-08-19T03:45:00.000000000'],\n",
       "       ['2021-08-17T03:50:00.000000000', '2021-08-17T03:55:00.000000000',\n",
       "        '2021-08-17T04:00:00.000000000', ...,\n",
       "        '2021-08-19T03:40:00.000000000', '2021-08-19T03:45:00.000000000',\n",
       "        '2021-08-19T03:50:00.000000000'],\n",
       "       ...,\n",
       "       ['2021-08-26T17:10:00.000000000', '2021-08-26T17:15:00.000000000',\n",
       "        '2021-08-26T17:20:00.000000000', ...,\n",
       "        '2021-08-28T17:00:00.000000000', '2021-08-28T17:05:00.000000000',\n",
       "        '2021-08-28T17:10:00.000000000'],\n",
       "       ['2021-08-26T17:15:00.000000000', '2021-08-26T17:20:00.000000000',\n",
       "        '2021-08-26T17:25:00.000000000', ...,\n",
       "        '2021-08-28T17:05:00.000000000', '2021-08-28T17:10:00.000000000',\n",
       "        '2021-08-28T17:15:00.000000000'],\n",
       "       ['2021-08-26T17:20:00.000000000', '2021-08-26T17:25:00.000000000',\n",
       "        '2021-08-26T17:30:00.000000000', ...,\n",
       "        '2021-08-28T17:10:00.000000000', '2021-08-28T17:15:00.000000000',\n",
       "        '2021-08-28T17:20:00.000000000']], dtype='datetime64[ns]')"
      ]
     },
     "execution_count": 105,
     "metadata": {},
     "output_type": "execute_result"
    }
   ],
   "source": [
    "data['DateTime']"
   ]
  },
  {
   "cell_type": "code",
   "execution_count": 151,
   "id": "49fed487",
   "metadata": {},
   "outputs": [
    {
     "name": "stdout",
     "output_type": "stream",
     "text": [
      "0\n",
      "1\n",
      "2\n",
      "3\n",
      "4\n",
      "5\n",
      "6\n",
      "7\n",
      "8\n",
      "9\n",
      "10\n",
      "11\n",
      "12\n",
      "13\n",
      "14\n",
      "15\n",
      "16\n",
      "17\n",
      "18\n",
      "19\n",
      "20\n",
      "21\n",
      "22\n",
      "23\n",
      "24\n",
      "25\n",
      "26\n",
      "27\n",
      "28\n",
      "29\n",
      "30\n",
      "31\n",
      "32\n",
      "33\n",
      "34\n",
      "35\n",
      "36\n",
      "37\n",
      "38\n",
      "39\n",
      "40\n",
      "41\n",
      "42\n",
      "43\n",
      "44\n",
      "45\n",
      "46\n",
      "47\n",
      "48\n",
      "49\n",
      "50\n",
      "51\n",
      "52\n",
      "53\n",
      "54\n",
      "55\n",
      "56\n",
      "57\n",
      "58\n",
      "59\n",
      "60\n",
      "61\n",
      "62\n",
      "63\n",
      "64\n",
      "65\n",
      "66\n",
      "67\n",
      "68\n",
      "69\n",
      "70\n",
      "71\n",
      "72\n",
      "73\n",
      "74\n",
      "75\n",
      "76\n",
      "77\n",
      "78\n",
      "79\n",
      "80\n",
      "81\n",
      "82\n",
      "83\n",
      "84\n",
      "85\n",
      "86\n",
      "87\n",
      "88\n",
      "89\n",
      "90\n",
      "91\n",
      "92\n",
      "93\n",
      "94\n",
      "95\n",
      "96\n",
      "97\n",
      "98\n",
      "99\n"
     ]
    }
   ],
   "source": [
    "# normalize rate\n",
    "# try 1: max value of the range\n",
    "toIndex = len(data['High'])-1\n",
    "progress = -1\n",
    "inputData = []\n",
    "inputDateTime = []\n",
    "for index in range(0,toIndex):\n",
    "    \n",
    "    if int((index/toIndex)*100) != progress:\n",
    "        progress = int((index/toIndex)*100)\n",
    "        print(progress)\n",
    "    highForRange = data['High'][index].max()\n",
    "    inputData.append([data['High'][index]/highForRange, data['Low'][index]/highForRange, data['Open'][index]/highForRange, data['Close'][index]/highForRange])\n",
    "    inputDateTime.append(data['DateTime'][index][-1])"
   ]
  },
  {
   "cell_type": "code",
   "execution_count": 107,
   "id": "9bc5edee",
   "metadata": {},
   "outputs": [],
   "source": [
    "dic = dict()"
   ]
  },
  {
   "cell_type": "code",
   "execution_count": 120,
   "id": "c2416bb7",
   "metadata": {},
   "outputs": [
    {
     "data": {
      "text/plain": [
       "numpy.datetime64('2021-08-17T03:40:00.000000000')"
      ]
     },
     "execution_count": 120,
     "metadata": {},
     "output_type": "execute_result"
    }
   ],
   "source": [
    "data['DateTime'][0][0]"
   ]
  },
  {
   "cell_type": "code",
   "execution_count": 113,
   "id": "83d55bff",
   "metadata": {},
   "outputs": [
    {
     "ename": "TypeError",
     "evalue": "unhashable type: 'numpy.ndarray'",
     "output_type": "error",
     "traceback": [
      "\u001b[0;31m---------------------------------------------------------------------------\u001b[0m",
      "\u001b[0;31mTypeError\u001b[0m                                 Traceback (most recent call last)",
      "\u001b[0;32m<ipython-input-113-ada69d58f1c9>\u001b[0m in \u001b[0;36m<module>\u001b[0;34m\u001b[0m\n\u001b[0;32m----> 1\u001b[0;31m \u001b[0mdic\u001b[0m\u001b[0;34m[\u001b[0m\u001b[0mdata\u001b[0m\u001b[0;34m[\u001b[0m\u001b[0;34m'DateTime'\u001b[0m\u001b[0;34m]\u001b[0m\u001b[0;34m[\u001b[0m\u001b[0;36m0\u001b[0m\u001b[0;34m]\u001b[0m\u001b[0;34m]\u001b[0m \u001b[0;34m=\u001b[0m \u001b[0;34m[\u001b[0m\u001b[0;36m0\u001b[0m\u001b[0;34m,\u001b[0m\u001b[0;36m1\u001b[0m\u001b[0;34m,\u001b[0m\u001b[0;36m2\u001b[0m\u001b[0;34m,\u001b[0m\u001b[0;36m3\u001b[0m\u001b[0;34m,\u001b[0m\u001b[0;34m]\u001b[0m\u001b[0;34m\u001b[0m\u001b[0;34m\u001b[0m\u001b[0m\n\u001b[0m",
      "\u001b[0;31mTypeError\u001b[0m: unhashable type: 'numpy.ndarray'"
     ]
    }
   ],
   "source": [
    "dic[data['DateTime'][0]] = [0,1,2,3,]"
   ]
  },
  {
   "cell_type": "code",
   "execution_count": 112,
   "id": "ea9ef718",
   "metadata": {},
   "outputs": [
    {
     "ename": "KeyError",
     "evalue": "0",
     "output_type": "error",
     "traceback": [
      "\u001b[0;31m---------------------------------------------------------------------------\u001b[0m",
      "\u001b[0;31mKeyError\u001b[0m                                  Traceback (most recent call last)",
      "\u001b[0;32m<ipython-input-112-d5a2f4e83513>\u001b[0m in \u001b[0;36m<module>\u001b[0;34m\u001b[0m\n\u001b[0;32m----> 1\u001b[0;31m \u001b[0mdic\u001b[0m\u001b[0;34m[\u001b[0m\u001b[0;36m0\u001b[0m\u001b[0;34m]\u001b[0m\u001b[0;34m\u001b[0m\u001b[0;34m\u001b[0m\u001b[0m\n\u001b[0m",
      "\u001b[0;31mKeyError\u001b[0m: 0"
     ]
    }
   ],
   "source": [
    "dic[0]"
   ]
  },
  {
   "cell_type": "code",
   "execution_count": 57,
   "id": "b7932822",
   "metadata": {},
   "outputs": [],
   "source": [
    "npInputData = np.array(inputData)"
   ]
  },
  {
   "cell_type": "code",
   "execution_count": 59,
   "id": "0114cb06",
   "metadata": {},
   "outputs": [],
   "source": [
    "np.save('data/bc_boader_2days_input_anormalized_test', npInputData)"
   ]
  },
  {
   "cell_type": "code",
   "execution_count": 3,
   "id": "1aeac380",
   "metadata": {},
   "outputs": [],
   "source": [
    "npInputData = np.load(file='data/bc_boader_2days_input_anormalized_test.npy')"
   ]
  },
  {
   "cell_type": "code",
   "execution_count": 4,
   "id": "3ad9578b",
   "metadata": {},
   "outputs": [],
   "source": [
    "import torch"
   ]
  },
  {
   "cell_type": "code",
   "execution_count": 5,
   "id": "7e2bef08",
   "metadata": {},
   "outputs": [],
   "source": [
    "inputData = torch.from_numpy(npInputData).to(torch.float32)"
   ]
  },
  {
   "cell_type": "code",
   "execution_count": 7,
   "id": "5f9a6944",
   "metadata": {},
   "outputs": [
    {
     "data": {
      "text/plain": [
       "tensor([[[0.9879, 0.9861, 0.9867,  ..., 0.9742, 0.9749, 0.9761],\n",
       "         [0.9870, 0.9856, 0.9859,  ..., 0.9737, 0.9742, 0.9753],\n",
       "         [0.9878, 0.9860, 0.9859,  ..., 0.9740, 0.9746, 0.9760],\n",
       "         [0.9874, 0.9860, 0.9864,  ..., 0.9741, 0.9748, 0.9759]]])"
      ]
     },
     "execution_count": 7,
     "metadata": {},
     "output_type": "execute_result"
    }
   ],
   "source": [
    "inputData[0:1]"
   ]
  },
  {
   "cell_type": "code",
   "execution_count": 12,
   "id": "2898e950",
   "metadata": {},
   "outputs": [
    {
     "data": {
      "text/plain": [
       "torch.Size([577])"
      ]
     },
     "execution_count": 12,
     "metadata": {},
     "output_type": "execute_result"
    }
   ],
   "source": [
    "inputData[0:1][0][0].shape"
   ]
  },
  {
   "cell_type": "code",
   "execution_count": 67,
   "id": "f7ccd611",
   "metadata": {},
   "outputs": [],
   "source": [
    "import torch.nn.functional as F\n",
    "import torch.nn as nn"
   ]
  },
  {
   "cell_type": "code",
   "execution_count": 68,
   "id": "de64aabe",
   "metadata": {},
   "outputs": [],
   "source": [
    "class Net(nn.Module):\n",
    "    def __init__(self):\n",
    "        super().__init__()\n",
    "        self.conv1 = nn.Conv1d(4,16, kernel_size=3, padding=1)\n",
    "        self.conv2 = nn.Conv1d(16,8, kernel_size=3, padding=1)\n",
    "        self.fc1 = nn.Linear(8*577, 32)\n",
    "        self.fc2 = nn.Linear(32, 1)\n",
    "        \n",
    "    def forward(self, x):\n",
    "        out = torch.tanh(self.conv1(x))\n",
    "        out = torch.tanh(self.conv2(out))\n",
    "        out = out.view(-1, 8*577)\n",
    "        out = torch.tanh(self.fc1(out))\n",
    "        out = self.fc2(out)\n",
    "        return out"
   ]
  },
  {
   "cell_type": "code",
   "execution_count": 69,
   "id": "75b3eef5",
   "metadata": {},
   "outputs": [
    {
     "data": {
      "text/plain": [
       "<All keys matched successfully>"
      ]
     },
     "execution_count": 69,
     "metadata": {},
     "output_type": "execute_result"
    }
   ],
   "source": [
    "model = Net()\n",
    "model.load_state_dict(torch.load('bc_boader_2days'))"
   ]
  },
  {
   "cell_type": "code",
   "execution_count": 78,
   "id": "d8611699",
   "metadata": {},
   "outputs": [],
   "source": [
    "out = model(inputData[0:1])"
   ]
  },
  {
   "cell_type": "code",
   "execution_count": 84,
   "id": "455298c6",
   "metadata": {},
   "outputs": [
    {
     "data": {
      "text/plain": [
       "5147551.561182085"
      ]
     },
     "execution_count": 84,
     "metadata": {},
     "output_type": "execute_result"
    }
   ],
   "source": [
    "data['High'][0].max()"
   ]
  },
  {
   "cell_type": "code",
   "execution_count": 100,
   "id": "0f45f9c0",
   "metadata": {},
   "outputs": [
    {
     "data": {
      "text/plain": [
       "array([[0.9755611]], dtype=float32)"
      ]
     },
     "execution_count": 100,
     "metadata": {},
     "output_type": "execute_result"
    }
   ],
   "source": [
    "out.detach().numpy()"
   ]
  },
  {
   "cell_type": "code",
   "execution_count": 102,
   "id": "8926d5af",
   "metadata": {},
   "outputs": [
    {
     "data": {
      "text/plain": [
       "5021750.972546808"
      ]
     },
     "execution_count": 102,
     "metadata": {},
     "output_type": "execute_result"
    }
   ],
   "source": [
    "out.item() * data['High'][0].max()"
   ]
  },
  {
   "cell_type": "code",
   "execution_count": 137,
   "id": "0fe0094d",
   "metadata": {},
   "outputs": [
    {
     "data": {
      "text/plain": [
       "5024650.792902715"
      ]
     },
     "execution_count": 137,
     "metadata": {},
     "output_type": "execute_result"
    }
   ],
   "source": [
    "data['High'][0][-1]"
   ]
  },
  {
   "cell_type": "code",
   "execution_count": 103,
   "id": "a0ef12c3",
   "metadata": {},
   "outputs": [],
   "source": [
    "import mplfinance as mpf"
   ]
  },
  {
   "cell_type": "code",
   "execution_count": 152,
   "id": "735dac18",
   "metadata": {},
   "outputs": [
    {
     "data": {
      "text/plain": [
       "numpy.datetime64('2021-08-19T03:40:00.000000000')"
      ]
     },
     "execution_count": 152,
     "metadata": {},
     "output_type": "execute_result"
    }
   ],
   "source": [
    "inputDateTime[0]"
   ]
  },
  {
   "cell_type": "code",
   "execution_count": 154,
   "id": "dcba3592",
   "metadata": {},
   "outputs": [
    {
     "data": {
      "image/png": "[encoded data removed]",
      "text/plain": [
       "<Figure size 800x575 with 2 Axes>"
      ]
     },
     "metadata": {},
     "output_type": "display_data"
    }
   ],
   "source": [
    "mpf.plot(df[1100:1200], type='candle', mav=(5, 25))"
   ]
  },
  {
   "cell_type": "code",
   "execution_count": 155,
   "id": "8c21a5a5",
   "metadata": {},
   "outputs": [],
   "source": [
    "targetDf = df[1100:1200]\n",
    "meanArray = []\n",
    "mean5Array = []\n",
    "trend = 0\n",
    "boaders = []\n",
    "\n",
    "for index, row in targetDf.iterrows():\n",
    "    currentMean = (row.High + row.Low)/2\n",
    "    meanArray.append(currentMean)\n",
    "\n",
    "for mean in meanArray:\n",
    "    index = len(mean5Array)\n",
    "    if index > 2:\n",
    "        mean5Value = 0\n",
    "        for value in meanArray[index-2:index+3]:\n",
    "            mean5Value += value\n",
    "        mean5Value = mean5Value/5\n",
    "        last5Value = mean5Array[-1]\n",
    "        diff = mean5Value - last5Value\n",
    "        mean5Array.append(mean5Value)\n",
    "        if diff > 0:\n",
    "            if trend == -1:\n",
    "                boaders.append(([targetDf[index:index+1].index[0]] ,targetDf.iloc[index].Low))\n",
    "            trend = 1\n",
    "        else:\n",
    "            if trend == 1:\n",
    "                boaders.append(([targetDf[index:index+1].index[0]] ,targetDf.iloc[index].High))\n",
    "            trend = -1\n",
    "    else:\n",
    "        mean5Array.append(mean)"
   ]
  },
  {
   "cell_type": "code",
   "execution_count": 156,
   "id": "0bb2f11d",
   "metadata": {},
   "outputs": [],
   "source": [
    "currentBoaderIndex = 0\n",
    "nextBoaderValues = []\n",
    "ended = False\n",
    "for index, row in targetDf.iterrows():\n",
    "    if index <= boaders[currentBoaderIndex][0][0]:\n",
    "        nextBoaderValues.append(boaders[currentBoaderIndex][1])\n",
    "    else:\n",
    "        while index > boaders[currentBoaderIndex][0][0]:\n",
    "            if currentBoaderIndex < len(boaders)-1:\n",
    "                currentBoaderIndex += 1\n",
    "            else:\n",
    "                ended = True\n",
    "                break;\n",
    "        if ended is True:\n",
    "            nextBoaderValues.append(-1)\n",
    "        else:\n",
    "            nextBoaderValues.append(boaders[currentBoaderIndex][1])"
   ]
  },
  {
   "cell_type": "code",
   "execution_count": 157,
   "id": "4dfd2128",
   "metadata": {},
   "outputs": [
    {
     "data": {
      "text/plain": [
       "[4967456.719454859,\n",
       " 4967456.719454859,\n",
       " 4967456.719454859,\n",
       " 4967456.719454859,\n",
       " 4967456.719454859,\n",
       " 5032097.501829909,\n",
       " 5032097.501829909,\n",
       " 5032097.501829909,\n",
       " 5032097.501829909,\n",
       " 5032097.501829909,\n",
       " 5032097.501829909,\n",
       " 5032097.501829909,\n",
       " 5018750.041228093,\n",
       " 5018750.041228093,\n",
       " 5018750.041228093,\n",
       " 5018750.041228093,\n",
       " 5045343.321756629,\n",
       " 5045343.321756629,\n",
       " 5045343.321756629,\n",
       " 5045343.321756629,\n",
       " 5045343.321756629,\n",
       " 5045343.321756629,\n",
       " 5040803.674274612,\n",
       " 5037995.374676099,\n",
       " 5033135.962497936,\n",
       " 5033135.962497936,\n",
       " 5033135.962497936,\n",
       " 5033135.962497936,\n",
       " 5044895.742085427,\n",
       " 5044895.742085427,\n",
       " 5044895.742085427,\n",
       " 5044895.742085427,\n",
       " 5044895.742085427,\n",
       " 5036328.723686381,\n",
       " 5033882.008070837,\n",
       " 5014879.372676366,\n",
       " 5014879.372676366,\n",
       " 5014879.372676366,\n",
       " 5014879.372676366,\n",
       " 5014879.372676366,\n",
       " 5014879.372676366,\n",
       " 5022348.136442604,\n",
       " 5022348.136442604,\n",
       " 4919240.72965121,\n",
       " 4919240.72965121,\n",
       " 4919240.72965121,\n",
       " 4919240.72965121,\n",
       " 4919240.72965121,\n",
       " 4919240.72965121,\n",
       " 4919240.72965121,\n",
       " 4919240.72965121,\n",
       " 4919240.72965121,\n",
       " 4919240.72965121,\n",
       " 4919240.72965121,\n",
       " 4919240.72965121,\n",
       " 4919240.72965121,\n",
       " 4919240.72965121,\n",
       " 4919240.72965121,\n",
       " 4919240.72965121,\n",
       " 4919240.72965121,\n",
       " 4919240.72965121,\n",
       " 4927299.399613162,\n",
       " 4920587.058744362,\n",
       " 4920587.058744362,\n",
       " 4921486.756943005,\n",
       " 4887670.494606883,\n",
       " 4887670.494606883,\n",
       " 4887670.494606883,\n",
       " 4887670.494606883,\n",
       " 4887670.494606883,\n",
       " 4887670.494606883,\n",
       " 4910022.30217161,\n",
       " 4910022.30217161,\n",
       " 4901986.881094396,\n",
       " 4896819.757666252,\n",
       " 4897949.967374447,\n",
       " 4897949.967374447,\n",
       " 4897949.967374447,\n",
       " 4906889.266275438,\n",
       " 4906889.266275438,\n",
       " 4906889.266275438,\n",
       " 4901698.52452584,\n",
       " 4925115.254781604,\n",
       " 4925115.254781604,\n",
       " 4925115.254781604,\n",
       " 4925115.254781604,\n",
       " 4925115.254781604,\n",
       " 4925115.254781604,\n",
       " 4925115.254781604,\n",
       " 4922730.933820375,\n",
       " 4922209.404498436,\n",
       " 4919968.134299812,\n",
       " 4947386.855464403,\n",
       " 4947386.855464403,\n",
       " 4947386.855464403,\n",
       " 4947386.855464403,\n",
       " 4947386.855464403,\n",
       " 4947386.855464403,\n",
       " 4947386.855464403,\n",
       " -1]"
      ]
     },
     "execution_count": 157,
     "metadata": {},
     "output_type": "execute_result"
    }
   ],
   "source": [
    "nextBoaderValues"
   ]
  },
  {
   "cell_type": "code",
   "execution_count": 158,
   "id": "3043c2c3",
   "metadata": {},
   "outputs": [
    {
     "name": "stderr",
     "output_type": "stream",
     "text": [
      "/home/cow/python/torch/lib/python3.6/site-packages/ipykernel_launcher.py:1: SettingWithCopyWarning: \n",
      "A value is trying to be set on a copy of a slice from a DataFrame.\n",
      "Try using .loc[row_indexer,col_indexer] = value instead\n",
      "\n",
      "See the caveats in the documentation: https://pandas.pydata.org/pandas-docs/stable/user_guide/indexing.html#returning-a-view-versus-a-copy\n",
      "  \"\"\"Entry point for launching an IPython kernel.\n"
     ]
    }
   ],
   "source": [
    "targetDf['BoaderValue'] = nextBoaderValues"
   ]
  },
  {
   "cell_type": "code",
   "execution_count": 161,
   "id": "d1c7c534",
   "metadata": {},
   "outputs": [
    {
     "data": {
      "text/html": [
       "<div>\n",
       "<style scoped>\n",
       "    .dataframe tbody tr th:only-of-type {\n",
       "        vertical-align: middle;\n",
       "    }\n",
       "\n",
       "    .dataframe tbody tr th {\n",
       "        vertical-align: top;\n",
       "    }\n",
       "\n",
       "    .dataframe thead th {\n",
       "        text-align: right;\n",
       "    }\n",
       "</style>\n",
       "<table border=\"1\" class=\"dataframe\">\n",
       "  <thead>\n",
       "    <tr style=\"text-align: right;\">\n",
       "      <th></th>\n",
       "      <th>High</th>\n",
       "      <th>Low</th>\n",
       "      <th>Open</th>\n",
       "      <th>Close</th>\n",
       "      <th>BoaderValue</th>\n",
       "    </tr>\n",
       "    <tr>\n",
       "      <th>Timestamp</th>\n",
       "      <th></th>\n",
       "      <th></th>\n",
       "      <th></th>\n",
       "      <th></th>\n",
       "      <th></th>\n",
       "    </tr>\n",
       "  </thead>\n",
       "  <tbody>\n",
       "    <tr>\n",
       "      <th>2021-08-19 03:35:00</th>\n",
       "      <td>5.018440e+06</td>\n",
       "      <td>5.014879e+06</td>\n",
       "      <td>5016552.0</td>\n",
       "      <td>5017906.0</td>\n",
       "      <td>5.014879e+06</td>\n",
       "    </tr>\n",
       "    <tr>\n",
       "      <th>2021-08-19 03:40:00</th>\n",
       "      <td>5.024651e+06</td>\n",
       "      <td>5.020459e+06</td>\n",
       "      <td>5024240.0</td>\n",
       "      <td>5023269.0</td>\n",
       "      <td>5.022348e+06</td>\n",
       "    </tr>\n",
       "    <tr>\n",
       "      <th>2021-08-19 03:45:00</th>\n",
       "      <td>5.022348e+06</td>\n",
       "      <td>5.014440e+06</td>\n",
       "      <td>5016917.0</td>\n",
       "      <td>5016869.0</td>\n",
       "      <td>5.022348e+06</td>\n",
       "    </tr>\n",
       "    <tr>\n",
       "      <th>2021-08-19 03:50:00</th>\n",
       "      <td>5.013437e+06</td>\n",
       "      <td>5.008377e+06</td>\n",
       "      <td>5009050.0</td>\n",
       "      <td>5009050.0</td>\n",
       "      <td>4.919241e+06</td>\n",
       "    </tr>\n",
       "    <tr>\n",
       "      <th>2021-08-19 03:55:00</th>\n",
       "      <td>5.006103e+06</td>\n",
       "      <td>4.999129e+06</td>\n",
       "      <td>5003005.0</td>\n",
       "      <td>5001941.0</td>\n",
       "      <td>4.919241e+06</td>\n",
       "    </tr>\n",
       "    <tr>\n",
       "      <th>2021-08-19 04:00:00</th>\n",
       "      <td>5.006732e+06</td>\n",
       "      <td>5.001342e+06</td>\n",
       "      <td>5002862.0</td>\n",
       "      <td>5002860.0</td>\n",
       "      <td>4.919241e+06</td>\n",
       "    </tr>\n",
       "    <tr>\n",
       "      <th>2021-08-19 04:05:00</th>\n",
       "      <td>4.994130e+06</td>\n",
       "      <td>4.991082e+06</td>\n",
       "      <td>4992883.0</td>\n",
       "      <td>4993336.0</td>\n",
       "      <td>4.919241e+06</td>\n",
       "    </tr>\n",
       "    <tr>\n",
       "      <th>2021-08-19 04:10:00</th>\n",
       "      <td>4.997490e+06</td>\n",
       "      <td>4.994239e+06</td>\n",
       "      <td>4994998.0</td>\n",
       "      <td>4995804.0</td>\n",
       "      <td>4.919241e+06</td>\n",
       "    </tr>\n",
       "    <tr>\n",
       "      <th>2021-08-19 04:15:00</th>\n",
       "      <td>4.992674e+06</td>\n",
       "      <td>4.990556e+06</td>\n",
       "      <td>4992499.0</td>\n",
       "      <td>4991095.0</td>\n",
       "      <td>4.919241e+06</td>\n",
       "    </tr>\n",
       "    <tr>\n",
       "      <th>2021-08-19 04:20:00</th>\n",
       "      <td>4.983860e+06</td>\n",
       "      <td>4.978402e+06</td>\n",
       "      <td>4979226.0</td>\n",
       "      <td>4980000.0</td>\n",
       "      <td>4.919241e+06</td>\n",
       "    </tr>\n",
       "    <tr>\n",
       "      <th>2021-08-19 04:25:00</th>\n",
       "      <td>4.958730e+06</td>\n",
       "      <td>4.953484e+06</td>\n",
       "      <td>4954678.0</td>\n",
       "      <td>4954702.0</td>\n",
       "      <td>4.919241e+06</td>\n",
       "    </tr>\n",
       "    <tr>\n",
       "      <th>2021-08-19 04:30:00</th>\n",
       "      <td>4.957927e+06</td>\n",
       "      <td>4.951653e+06</td>\n",
       "      <td>4952219.0</td>\n",
       "      <td>4954954.0</td>\n",
       "      <td>4.919241e+06</td>\n",
       "    </tr>\n",
       "    <tr>\n",
       "      <th>2021-08-19 04:35:00</th>\n",
       "      <td>4.954219e+06</td>\n",
       "      <td>4.950086e+06</td>\n",
       "      <td>4951966.0</td>\n",
       "      <td>4952013.0</td>\n",
       "      <td>4.919241e+06</td>\n",
       "    </tr>\n",
       "    <tr>\n",
       "      <th>2021-08-19 04:40:00</th>\n",
       "      <td>4.946270e+06</td>\n",
       "      <td>4.941751e+06</td>\n",
       "      <td>4944572.0</td>\n",
       "      <td>4944999.0</td>\n",
       "      <td>4.919241e+06</td>\n",
       "    </tr>\n",
       "    <tr>\n",
       "      <th>2021-08-19 04:45:00</th>\n",
       "      <td>4.941015e+06</td>\n",
       "      <td>4.930872e+06</td>\n",
       "      <td>4931561.0</td>\n",
       "      <td>4934026.0</td>\n",
       "      <td>4.919241e+06</td>\n",
       "    </tr>\n",
       "    <tr>\n",
       "      <th>2021-08-19 04:50:00</th>\n",
       "      <td>4.942098e+06</td>\n",
       "      <td>4.934882e+06</td>\n",
       "      <td>4937499.0</td>\n",
       "      <td>4937499.0</td>\n",
       "      <td>4.919241e+06</td>\n",
       "    </tr>\n",
       "    <tr>\n",
       "      <th>2021-08-19 04:55:00</th>\n",
       "      <td>4.929507e+06</td>\n",
       "      <td>4.921833e+06</td>\n",
       "      <td>4922722.0</td>\n",
       "      <td>4924379.0</td>\n",
       "      <td>4.919241e+06</td>\n",
       "    </tr>\n",
       "    <tr>\n",
       "      <th>2021-08-19 05:00:00</th>\n",
       "      <td>4.920707e+06</td>\n",
       "      <td>4.917046e+06</td>\n",
       "      <td>4919325.0</td>\n",
       "      <td>4919503.0</td>\n",
       "      <td>4.919241e+06</td>\n",
       "    </tr>\n",
       "    <tr>\n",
       "      <th>2021-08-19 05:05:00</th>\n",
       "      <td>4.927287e+06</td>\n",
       "      <td>4.922112e+06</td>\n",
       "      <td>4924645.0</td>\n",
       "      <td>4922501.0</td>\n",
       "      <td>4.919241e+06</td>\n",
       "    </tr>\n",
       "    <tr>\n",
       "      <th>2021-08-19 05:10:00</th>\n",
       "      <td>4.922732e+06</td>\n",
       "      <td>4.919218e+06</td>\n",
       "      <td>4922294.0</td>\n",
       "      <td>4920001.0</td>\n",
       "      <td>4.919241e+06</td>\n",
       "    </tr>\n",
       "  </tbody>\n",
       "</table>\n",
       "</div>"
      ],
      "text/plain": [
       "                             High           Low       Open      Close  \\\n",
       "Timestamp                                                               \n",
       "2021-08-19 03:35:00  5.018440e+06  5.014879e+06  5016552.0  5017906.0   \n",
       "2021-08-19 03:40:00  5.024651e+06  5.020459e+06  5024240.0  5023269.0   \n",
       "2021-08-19 03:45:00  5.022348e+06  5.014440e+06  5016917.0  5016869.0   \n",
       "2021-08-19 03:50:00  5.013437e+06  5.008377e+06  5009050.0  5009050.0   \n",
       "2021-08-19 03:55:00  5.006103e+06  4.999129e+06  5003005.0  5001941.0   \n",
       "2021-08-19 04:00:00  5.006732e+06  5.001342e+06  5002862.0  5002860.0   \n",
       "2021-08-19 04:05:00  4.994130e+06  4.991082e+06  4992883.0  4993336.0   \n",
       "2021-08-19 04:10:00  4.997490e+06  4.994239e+06  4994998.0  4995804.0   \n",
       "2021-08-19 04:15:00  4.992674e+06  4.990556e+06  4992499.0  4991095.0   \n",
       "2021-08-19 04:20:00  4.983860e+06  4.978402e+06  4979226.0  4980000.0   \n",
       "2021-08-19 04:25:00  4.958730e+06  4.953484e+06  4954678.0  4954702.0   \n",
       "2021-08-19 04:30:00  4.957927e+06  4.951653e+06  4952219.0  4954954.0   \n",
       "2021-08-19 04:35:00  4.954219e+06  4.950086e+06  4951966.0  4952013.0   \n",
       "2021-08-19 04:40:00  4.946270e+06  4.941751e+06  4944572.0  4944999.0   \n",
       "2021-08-19 04:45:00  4.941015e+06  4.930872e+06  4931561.0  4934026.0   \n",
       "2021-08-19 04:50:00  4.942098e+06  4.934882e+06  4937499.0  4937499.0   \n",
       "2021-08-19 04:55:00  4.929507e+06  4.921833e+06  4922722.0  4924379.0   \n",
       "2021-08-19 05:00:00  4.920707e+06  4.917046e+06  4919325.0  4919503.0   \n",
       "2021-08-19 05:05:00  4.927287e+06  4.922112e+06  4924645.0  4922501.0   \n",
       "2021-08-19 05:10:00  4.922732e+06  4.919218e+06  4922294.0  4920001.0   \n",
       "\n",
       "                      BoaderValue  \n",
       "Timestamp                          \n",
       "2021-08-19 03:35:00  5.014879e+06  \n",
       "2021-08-19 03:40:00  5.022348e+06  \n",
       "2021-08-19 03:45:00  5.022348e+06  \n",
       "2021-08-19 03:50:00  4.919241e+06  \n",
       "2021-08-19 03:55:00  4.919241e+06  \n",
       "2021-08-19 04:00:00  4.919241e+06  \n",
       "2021-08-19 04:05:00  4.919241e+06  \n",
       "2021-08-19 04:10:00  4.919241e+06  \n",
       "2021-08-19 04:15:00  4.919241e+06  \n",
       "2021-08-19 04:20:00  4.919241e+06  \n",
       "2021-08-19 04:25:00  4.919241e+06  \n",
       "2021-08-19 04:30:00  4.919241e+06  \n",
       "2021-08-19 04:35:00  4.919241e+06  \n",
       "2021-08-19 04:40:00  4.919241e+06  \n",
       "2021-08-19 04:45:00  4.919241e+06  \n",
       "2021-08-19 04:50:00  4.919241e+06  \n",
       "2021-08-19 04:55:00  4.919241e+06  \n",
       "2021-08-19 05:00:00  4.919241e+06  \n",
       "2021-08-19 05:05:00  4.919241e+06  \n",
       "2021-08-19 05:10:00  4.919241e+06  "
      ]
     },
     "execution_count": 161,
     "metadata": {},
     "output_type": "execute_result"
    }
   ],
   "source": [
    "targetDf[40:60]"
   ]
  },
  {
   "cell_type": "code",
   "execution_count": 167,
   "id": "b24bd6a6",
   "metadata": {},
   "outputs": [
    {
     "data": {
      "text/plain": [
       "True"
      ]
     },
     "execution_count": 167,
     "metadata": {},
     "output_type": "execute_result"
    }
   ],
   "source": [
    "targetDf[42:43].index[0] == inputDateTime[1]"
   ]
  },
  {
   "cell_type": "code",
   "execution_count": null,
   "id": "655f4275",
   "metadata": {},
   "outputs": [],
   "source": []
  }
 ],
 "metadata": {
  "kernelspec": {
   "display_name": "Python 3",
   "language": "python",
   "name": "python3"
  },
  "language_info": {
   "codemirror_mode": {
    "name": "ipython",
    "version": 3
   },
   "file_extension": ".py",
   "mimetype": "text/x-python",
   "name": "python",
   "nbconvert_exporter": "python",
   "pygments_lexer": "ipython3",
   "version": "3.6.8"
  }
 },
 "nbformat": 4,
 "nbformat_minor": 5
}
